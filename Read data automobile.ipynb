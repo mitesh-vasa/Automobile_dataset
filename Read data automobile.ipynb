{
 "cells": [
  {
   "cell_type": "code",
   "execution_count": 1,
   "id": "a449247d",
   "metadata": {},
   "outputs": [],
   "source": [
    "import warnings\n",
    "warnings.filterwarnings('ignore')\n",
    "file1=open('scale1.pkl','rb') # here scale.pkl exist and file1 is a temporary file\n",
    "file2=open('model1.pkl','rb') #here model.pkl exist and file2 is a temporary file\n",
    "file3_1=open(\"LabelEncoder1.pkl\",\"rb\")\n",
    "file3_2=open(\"LabelEncoder2.pkl\",\"rb\")\n",
    "file3_3=open(\"LabelEncoder3.pkl\",\"rb\")\n",
    "file3_4=open(\"LabelEncoder4.pkl\",\"rb\")\n",
    "file3_5=open(\"LabelEncoder5.pkl\",\"rb\")\n",
    "file3_6=open(\"LabelEncoder6.pkl\",\"rb\")\n",
    "\n",
    "import pickle\n",
    "#To read data from file , use inbuilt method load() of pickle library\n",
    "scale=pickle.load(file1) #scale user defined variable\n",
    "model=pickle.load(file2)#model user defined variable\n",
    "e_label1=pickle.load(file3_1)\n",
    "e_label2=pickle.load(file3_2)\n",
    "e_label3=pickle.load(file3_3)\n",
    "e_label4=pickle.load(file3_4)\n",
    "e_label5=pickle.load(file3_5)\n",
    "e_label6=pickle.load(file3_6)\n",
    "#create List of all variables\n",
    "#create a list  for object type"
   ]
  },
  {
   "cell_type": "code",
   "execution_count": 2,
   "id": "59065742",
   "metadata": {},
   "outputs": [],
   "source": [
    "make='alfa-romero'\n",
    "ft='gas'\n",
    "bs='convertible'\n",
    "dw='rwd'\n",
    "el='front'\n",
    "et='dohc'\n",
    "\n",
    "sym=3\n",
    "nl=122.0\n",
    "w=64.1\n",
    "h=48.8\n",
    "es=130\n",
    "hp=111.0\n",
    "cm=21\n",
    "hm=27"
   ]
  },
  {
   "cell_type": "code",
   "execution_count": 3,
   "id": "434357ea",
   "metadata": {},
   "outputs": [],
   "source": [
    "#To Read file in binary format \n",
    "#to open permanent file in temp file in read binary mode(rb)\n",
    "\n",
    " \n",
    "import numpy as np\n",
    "\n",
    "x1=e_label1.transform([make])\n",
    "x1=np.array([x1])\n",
    "x2=e_label2.transform([ft])\n",
    "x2=np.array([x2])\n",
    "x3=e_label3.transform([bs])\n",
    "x3=np.array([x3])\n",
    "x4=e_label4.transform([dw])\n",
    "x4=np.array([x4])\n",
    "x5=e_label5.transform([el])\n",
    "x5=np.array([x5])\n",
    "x6=e_label6.transform([et])\n",
    "x6=np.array([x6])\n",
    "xf=[x1[0],x2[0],x3[0],x4[0],x5[0],x6[0],sym,nl,w,h,es,hp,cm,hm]\n",
    "#change list x2 in numpy array \n",
    "X=np.array([xf])"
   ]
  },
  {
   "cell_type": "code",
   "execution_count": 4,
   "id": "296d9fe4",
   "metadata": {},
   "outputs": [
    {
     "name": "stdout",
     "output_type": "stream",
     "text": [
      "Predicted price =  [343388.8845385]\n"
     ]
    }
   ],
   "source": [
    "features=scale.transform(X)\n",
    "features\n",
    "\n",
    "Y_pred=model.predict(features)\n",
    "print(\"Predicted price = \",Y_pred)"
   ]
  },
  {
   "cell_type": "code",
   "execution_count": 5,
   "id": "0a4c7f75",
   "metadata": {},
   "outputs": [
    {
     "data": {
      "text/plain": [
       "(1, 14)"
      ]
     },
     "execution_count": 5,
     "metadata": {},
     "output_type": "execute_result"
    }
   ],
   "source": [
    "X.shape"
   ]
  }
 ],
 "metadata": {
  "kernelspec": {
   "display_name": "Python 3 (ipykernel)",
   "language": "python",
   "name": "python3"
  },
  "language_info": {
   "codemirror_mode": {
    "name": "ipython",
    "version": 3
   },
   "file_extension": ".py",
   "mimetype": "text/x-python",
   "name": "python",
   "nbconvert_exporter": "python",
   "pygments_lexer": "ipython3",
   "version": "3.10.9"
  }
 },
 "nbformat": 4,
 "nbformat_minor": 5
}
